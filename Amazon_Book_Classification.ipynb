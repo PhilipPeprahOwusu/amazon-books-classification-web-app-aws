{
  "cells": [
    {
      "cell_type": "code",
      "execution_count": 1,
      "metadata": {
        "id": "_HupordyDr7W"
      },
      "outputs": [],
      "source": [
        "#importing the necessary libraries and dependencies\n",
        "import pandas as pd\n",
        "import numpy as np\n",
        "import seaborn as sn\n",
        "import matplotlib.pyplot as plt\n",
        "import re\n",
        "import nltk\n",
        "from collections import Counter\n",
        "from sklearn.feature_extraction.text import TfidfVectorizer,CountVectorizer\n",
        "from sklearn.model_selection import train_test_split\n",
        "from sklearn.tree import DecisionTreeClassifier\n",
        "from sklearn.ensemble import RandomForestClassifier\n",
        "from sklearn.naive_bayes import GaussianNB,MultinomialNB\n",
        "from sklearn.svm import SVC\n",
        "from sklearn import metrics"
      ]
    },
    {
      "cell_type": "code",
      "execution_count": 2,
      "metadata": {
        "colab": {
          "base_uri": "https://localhost:8080/",
          "height": 354
        },
        "id": "UvyIsCopFUsc",
        "outputId": "5f3fe04e-e4e9-4084-f28e-2c960e32b050"
      },
      "outputs": [
        {
          "data": {
            "text/html": [
              "\n",
              "  <div id=\"df-f14f9bc6-273c-4f26-b84b-149a9be24ad4\">\n",
              "    <div class=\"colab-df-container\">\n",
              "      <div>\n",
              "<style scoped>\n",
              "    .dataframe tbody tr th:only-of-type {\n",
              "        vertical-align: middle;\n",
              "    }\n",
              "\n",
              "    .dataframe tbody tr th {\n",
              "        vertical-align: top;\n",
              "    }\n",
              "\n",
              "    .dataframe thead th {\n",
              "        text-align: right;\n",
              "    }\n",
              "</style>\n",
              "<table border=\"1\" class=\"dataframe\">\n",
              "  <thead>\n",
              "    <tr style=\"text-align: right;\">\n",
              "      <th></th>\n",
              "      <th>Unnamed: 0</th>\n",
              "      <th>book_id</th>\n",
              "      <th>book_name</th>\n",
              "      <th>genre</th>\n",
              "      <th>summary</th>\n",
              "    </tr>\n",
              "  </thead>\n",
              "  <tbody>\n",
              "    <tr>\n",
              "      <th>0</th>\n",
              "      <td>0</td>\n",
              "      <td>3248537</td>\n",
              "      <td>Drowned Wednesday</td>\n",
              "      <td>Fantasy</td>\n",
              "      <td>Drowned Wednesday is the first Trustee among ...</td>\n",
              "    </tr>\n",
              "    <tr>\n",
              "      <th>1</th>\n",
              "      <td>1</td>\n",
              "      <td>27796919</td>\n",
              "      <td>The Lost Hero</td>\n",
              "      <td>Fantasy</td>\n",
              "      <td>As the book opens, Jason awakens on a school ...</td>\n",
              "    </tr>\n",
              "    <tr>\n",
              "      <th>2</th>\n",
              "      <td>2</td>\n",
              "      <td>3910776</td>\n",
              "      <td>The Eyes of the Overworld</td>\n",
              "      <td>Fantasy</td>\n",
              "      <td>Cugel is easily persuaded by the merchant Fia...</td>\n",
              "    </tr>\n",
              "    <tr>\n",
              "      <th>3</th>\n",
              "      <td>3</td>\n",
              "      <td>5969644</td>\n",
              "      <td>Magic's Promise</td>\n",
              "      <td>Fantasy</td>\n",
              "      <td>The book opens with Herald-Mage Vanyel return...</td>\n",
              "    </tr>\n",
              "    <tr>\n",
              "      <th>4</th>\n",
              "      <td>4</td>\n",
              "      <td>3173445</td>\n",
              "      <td>Taran Wanderer</td>\n",
              "      <td>Fantasy</td>\n",
              "      <td>Taran and Gurgi have returned to Caer Dallben...</td>\n",
              "    </tr>\n",
              "  </tbody>\n",
              "</table>\n",
              "</div>\n",
              "      <button class=\"colab-df-convert\" onclick=\"convertToInteractive('df-f14f9bc6-273c-4f26-b84b-149a9be24ad4')\"\n",
              "              title=\"Convert this dataframe to an interactive table.\"\n",
              "              style=\"display:none;\">\n",
              "        \n",
              "  <svg xmlns=\"http://www.w3.org/2000/svg\" height=\"24px\"viewBox=\"0 0 24 24\"\n",
              "       width=\"24px\">\n",
              "    <path d=\"M0 0h24v24H0V0z\" fill=\"none\"/>\n",
              "    <path d=\"M18.56 5.44l.94 2.06.94-2.06 2.06-.94-2.06-.94-.94-2.06-.94 2.06-2.06.94zm-11 1L8.5 8.5l.94-2.06 2.06-.94-2.06-.94L8.5 2.5l-.94 2.06-2.06.94zm10 10l.94 2.06.94-2.06 2.06-.94-2.06-.94-.94-2.06-.94 2.06-2.06.94z\"/><path d=\"M17.41 7.96l-1.37-1.37c-.4-.4-.92-.59-1.43-.59-.52 0-1.04.2-1.43.59L10.3 9.45l-7.72 7.72c-.78.78-.78 2.05 0 2.83L4 21.41c.39.39.9.59 1.41.59.51 0 1.02-.2 1.41-.59l7.78-7.78 2.81-2.81c.8-.78.8-2.07 0-2.86zM5.41 20L4 18.59l7.72-7.72 1.47 1.35L5.41 20z\"/>\n",
              "  </svg>\n",
              "      </button>\n",
              "      \n",
              "  <style>\n",
              "    .colab-df-container {\n",
              "      display:flex;\n",
              "      flex-wrap:wrap;\n",
              "      gap: 12px;\n",
              "    }\n",
              "\n",
              "    .colab-df-convert {\n",
              "      background-color: #E8F0FE;\n",
              "      border: none;\n",
              "      border-radius: 50%;\n",
              "      cursor: pointer;\n",
              "      display: none;\n",
              "      fill: #1967D2;\n",
              "      height: 32px;\n",
              "      padding: 0 0 0 0;\n",
              "      width: 32px;\n",
              "    }\n",
              "\n",
              "    .colab-df-convert:hover {\n",
              "      background-color: #E2EBFA;\n",
              "      box-shadow: 0px 1px 2px rgba(60, 64, 67, 0.3), 0px 1px 3px 1px rgba(60, 64, 67, 0.15);\n",
              "      fill: #174EA6;\n",
              "    }\n",
              "\n",
              "    [theme=dark] .colab-df-convert {\n",
              "      background-color: #3B4455;\n",
              "      fill: #D2E3FC;\n",
              "    }\n",
              "\n",
              "    [theme=dark] .colab-df-convert:hover {\n",
              "      background-color: #434B5C;\n",
              "      box-shadow: 0px 1px 3px 1px rgba(0, 0, 0, 0.15);\n",
              "      filter: drop-shadow(0px 1px 2px rgba(0, 0, 0, 0.3));\n",
              "      fill: #FFFFFF;\n",
              "    }\n",
              "  </style>\n",
              "\n",
              "      <script>\n",
              "        const buttonEl =\n",
              "          document.querySelector('#df-f14f9bc6-273c-4f26-b84b-149a9be24ad4 button.colab-df-convert');\n",
              "        buttonEl.style.display =\n",
              "          google.colab.kernel.accessAllowed ? 'block' : 'none';\n",
              "\n",
              "        async function convertToInteractive(key) {\n",
              "          const element = document.querySelector('#df-f14f9bc6-273c-4f26-b84b-149a9be24ad4');\n",
              "          const dataTable =\n",
              "            await google.colab.kernel.invokeFunction('convertToInteractive',\n",
              "                                                     [key], {});\n",
              "          if (!dataTable) return;\n",
              "\n",
              "          const docLinkHtml = 'Like what you see? Visit the ' +\n",
              "            '<a target=\"_blank\" href=https://colab.research.google.com/notebooks/data_table.ipynb>data table notebook</a>'\n",
              "            + ' to learn more about interactive tables.';\n",
              "          element.innerHTML = '';\n",
              "          dataTable['output_type'] = 'display_data';\n",
              "          await google.colab.output.renderOutput(dataTable, element);\n",
              "          const docLink = document.createElement('div');\n",
              "          docLink.innerHTML = docLinkHtml;\n",
              "          element.appendChild(docLink);\n",
              "        }\n",
              "      </script>\n",
              "    </div>\n",
              "  </div>\n",
              "  "
            ],
            "text/plain": [
              "   Unnamed: 0   book_id                  book_name    genre  \\\n",
              "0           0   3248537          Drowned Wednesday  Fantasy   \n",
              "1           1  27796919              The Lost Hero  Fantasy   \n",
              "2           2   3910776  The Eyes of the Overworld  Fantasy   \n",
              "3           3   5969644            Magic's Promise  Fantasy   \n",
              "4           4   3173445             Taran Wanderer  Fantasy   \n",
              "\n",
              "                                             summary  \n",
              "0   Drowned Wednesday is the first Trustee among ...  \n",
              "1   As the book opens, Jason awakens on a school ...  \n",
              "2   Cugel is easily persuaded by the merchant Fia...  \n",
              "3   The book opens with Herald-Mage Vanyel return...  \n",
              "4   Taran and Gurgi have returned to Caer Dallben...  "
            ]
          },
          "execution_count": 2,
          "metadata": {},
          "output_type": "execute_result"
        }
      ],
      "source": [
        "#reading book summary csv file\n",
        "amz_books = pd.read_csv('BooksDataSet.csv')\n",
        "amz_books.head()"
      ]
    },
    {
      "cell_type": "code",
      "execution_count": 3,
      "metadata": {
        "colab": {
          "base_uri": "https://localhost:8080/",
          "height": 337
        },
        "id": "uOOuDPu1Gc31",
        "outputId": "636588da-0326-4e57-e0ae-bc81b8776469"
      },
      "outputs": [
        {
          "data": {
            "text/html": [
              "\n",
              "  <div id=\"df-daee4847-8ed0-4ac1-b1ae-6e2382167475\">\n",
              "    <div class=\"colab-df-container\">\n",
              "      <div>\n",
              "<style scoped>\n",
              "    .dataframe tbody tr th:only-of-type {\n",
              "        vertical-align: middle;\n",
              "    }\n",
              "\n",
              "    .dataframe tbody tr th {\n",
              "        vertical-align: top;\n",
              "    }\n",
              "\n",
              "    .dataframe thead th {\n",
              "        text-align: right;\n",
              "    }\n",
              "</style>\n",
              "<table border=\"1\" class=\"dataframe\">\n",
              "  <thead>\n",
              "    <tr style=\"text-align: right;\">\n",
              "      <th></th>\n",
              "      <th>book_id</th>\n",
              "      <th>book_name</th>\n",
              "      <th>genre</th>\n",
              "      <th>summary</th>\n",
              "    </tr>\n",
              "  </thead>\n",
              "  <tbody>\n",
              "    <tr>\n",
              "      <th>0</th>\n",
              "      <td>3248537</td>\n",
              "      <td>Drowned Wednesday</td>\n",
              "      <td>Fantasy</td>\n",
              "      <td>Drowned Wednesday is the first Trustee among ...</td>\n",
              "    </tr>\n",
              "    <tr>\n",
              "      <th>1</th>\n",
              "      <td>27796919</td>\n",
              "      <td>The Lost Hero</td>\n",
              "      <td>Fantasy</td>\n",
              "      <td>As the book opens, Jason awakens on a school ...</td>\n",
              "    </tr>\n",
              "    <tr>\n",
              "      <th>2</th>\n",
              "      <td>3910776</td>\n",
              "      <td>The Eyes of the Overworld</td>\n",
              "      <td>Fantasy</td>\n",
              "      <td>Cugel is easily persuaded by the merchant Fia...</td>\n",
              "    </tr>\n",
              "    <tr>\n",
              "      <th>3</th>\n",
              "      <td>5969644</td>\n",
              "      <td>Magic's Promise</td>\n",
              "      <td>Fantasy</td>\n",
              "      <td>The book opens with Herald-Mage Vanyel return...</td>\n",
              "    </tr>\n",
              "    <tr>\n",
              "      <th>4</th>\n",
              "      <td>3173445</td>\n",
              "      <td>Taran Wanderer</td>\n",
              "      <td>Fantasy</td>\n",
              "      <td>Taran and Gurgi have returned to Caer Dallben...</td>\n",
              "    </tr>\n",
              "  </tbody>\n",
              "</table>\n",
              "</div>\n",
              "      <button class=\"colab-df-convert\" onclick=\"convertToInteractive('df-daee4847-8ed0-4ac1-b1ae-6e2382167475')\"\n",
              "              title=\"Convert this dataframe to an interactive table.\"\n",
              "              style=\"display:none;\">\n",
              "        \n",
              "  <svg xmlns=\"http://www.w3.org/2000/svg\" height=\"24px\"viewBox=\"0 0 24 24\"\n",
              "       width=\"24px\">\n",
              "    <path d=\"M0 0h24v24H0V0z\" fill=\"none\"/>\n",
              "    <path d=\"M18.56 5.44l.94 2.06.94-2.06 2.06-.94-2.06-.94-.94-2.06-.94 2.06-2.06.94zm-11 1L8.5 8.5l.94-2.06 2.06-.94-2.06-.94L8.5 2.5l-.94 2.06-2.06.94zm10 10l.94 2.06.94-2.06 2.06-.94-2.06-.94-.94-2.06-.94 2.06-2.06.94z\"/><path d=\"M17.41 7.96l-1.37-1.37c-.4-.4-.92-.59-1.43-.59-.52 0-1.04.2-1.43.59L10.3 9.45l-7.72 7.72c-.78.78-.78 2.05 0 2.83L4 21.41c.39.39.9.59 1.41.59.51 0 1.02-.2 1.41-.59l7.78-7.78 2.81-2.81c.8-.78.8-2.07 0-2.86zM5.41 20L4 18.59l7.72-7.72 1.47 1.35L5.41 20z\"/>\n",
              "  </svg>\n",
              "      </button>\n",
              "      \n",
              "  <style>\n",
              "    .colab-df-container {\n",
              "      display:flex;\n",
              "      flex-wrap:wrap;\n",
              "      gap: 12px;\n",
              "    }\n",
              "\n",
              "    .colab-df-convert {\n",
              "      background-color: #E8F0FE;\n",
              "      border: none;\n",
              "      border-radius: 50%;\n",
              "      cursor: pointer;\n",
              "      display: none;\n",
              "      fill: #1967D2;\n",
              "      height: 32px;\n",
              "      padding: 0 0 0 0;\n",
              "      width: 32px;\n",
              "    }\n",
              "\n",
              "    .colab-df-convert:hover {\n",
              "      background-color: #E2EBFA;\n",
              "      box-shadow: 0px 1px 2px rgba(60, 64, 67, 0.3), 0px 1px 3px 1px rgba(60, 64, 67, 0.15);\n",
              "      fill: #174EA6;\n",
              "    }\n",
              "\n",
              "    [theme=dark] .colab-df-convert {\n",
              "      background-color: #3B4455;\n",
              "      fill: #D2E3FC;\n",
              "    }\n",
              "\n",
              "    [theme=dark] .colab-df-convert:hover {\n",
              "      background-color: #434B5C;\n",
              "      box-shadow: 0px 1px 3px 1px rgba(0, 0, 0, 0.15);\n",
              "      filter: drop-shadow(0px 1px 2px rgba(0, 0, 0, 0.3));\n",
              "      fill: #FFFFFF;\n",
              "    }\n",
              "  </style>\n",
              "\n",
              "      <script>\n",
              "        const buttonEl =\n",
              "          document.querySelector('#df-daee4847-8ed0-4ac1-b1ae-6e2382167475 button.colab-df-convert');\n",
              "        buttonEl.style.display =\n",
              "          google.colab.kernel.accessAllowed ? 'block' : 'none';\n",
              "\n",
              "        async function convertToInteractive(key) {\n",
              "          const element = document.querySelector('#df-daee4847-8ed0-4ac1-b1ae-6e2382167475');\n",
              "          const dataTable =\n",
              "            await google.colab.kernel.invokeFunction('convertToInteractive',\n",
              "                                                     [key], {});\n",
              "          if (!dataTable) return;\n",
              "\n",
              "          const docLinkHtml = 'Like what you see? Visit the ' +\n",
              "            '<a target=\"_blank\" href=https://colab.research.google.com/notebooks/data_table.ipynb>data table notebook</a>'\n",
              "            + ' to learn more about interactive tables.';\n",
              "          element.innerHTML = '';\n",
              "          dataTable['output_type'] = 'display_data';\n",
              "          await google.colab.output.renderOutput(dataTable, element);\n",
              "          const docLink = document.createElement('div');\n",
              "          docLink.innerHTML = docLinkHtml;\n",
              "          element.appendChild(docLink);\n",
              "        }\n",
              "      </script>\n",
              "    </div>\n",
              "  </div>\n",
              "  "
            ],
            "text/plain": [
              "    book_id                  book_name    genre  \\\n",
              "0   3248537          Drowned Wednesday  Fantasy   \n",
              "1  27796919              The Lost Hero  Fantasy   \n",
              "2   3910776  The Eyes of the Overworld  Fantasy   \n",
              "3   5969644            Magic's Promise  Fantasy   \n",
              "4   3173445             Taran Wanderer  Fantasy   \n",
              "\n",
              "                                             summary  \n",
              "0   Drowned Wednesday is the first Trustee among ...  \n",
              "1   As the book opens, Jason awakens on a school ...  \n",
              "2   Cugel is easily persuaded by the merchant Fia...  \n",
              "3   The book opens with Herald-Mage Vanyel return...  \n",
              "4   Taran and Gurgi have returned to Caer Dallben...  "
            ]
          },
          "execution_count": 3,
          "metadata": {},
          "output_type": "execute_result"
        }
      ],
      "source": [
        "## removing the unnamed column\n",
        "amz_books = amz_books[['book_id', 'book_name', 'genre', 'summary']]\n",
        "amz_books.head()"
      ]
    },
    {
      "cell_type": "code",
      "execution_count": 4,
      "metadata": {
        "colab": {
          "base_uri": "https://localhost:8080/"
        },
        "id": "MPV4sLZ1HCFT",
        "outputId": "71a43672-c960-4179-a672-7988127e6521"
      },
      "outputs": [
        {
          "name": "stdout",
          "output_type": "stream",
          "text": [
            "<class 'pandas.core.frame.DataFrame'>\n",
            "RangeIndex: 3000 entries, 0 to 2999\n",
            "Data columns (total 4 columns):\n",
            " #   Column     Non-Null Count  Dtype \n",
            "---  ------     --------------  ----- \n",
            " 0   book_id    3000 non-null   int64 \n",
            " 1   book_name  3000 non-null   object\n",
            " 2   genre      3000 non-null   object\n",
            " 3   summary    3000 non-null   object\n",
            "dtypes: int64(1), object(3)\n",
            "memory usage: 93.9+ KB\n"
          ]
        }
      ],
      "source": [
        "#checking the structure of the dataframe including null values\n",
        "amz_books.info()"
      ]
    },
    {
      "cell_type": "code",
      "execution_count": 5,
      "metadata": {
        "colab": {
          "base_uri": "https://localhost:8080/",
          "height": 665
        },
        "id": "saUiCzBQIV7C",
        "outputId": "32d80d4f-d9c0-40f0-b0b3-48e9bd3f66ab"
      },
      "outputs": [
        {
          "data": {
            "text/plain": [
              "(array([0, 1, 2, 3, 4, 5]),\n",
              " [Text(0, 0, 'Fantasy'),\n",
              "  Text(1, 0, 'Science Fiction'),\n",
              "  Text(2, 0, 'Crime Fiction'),\n",
              "  Text(3, 0, 'Historical novel'),\n",
              "  Text(4, 0, 'Horror'),\n",
              "  Text(5, 0, 'Thriller')])"
            ]
          },
          "execution_count": 5,
          "metadata": {},
          "output_type": "execute_result"
        },
        {
          "data": {
            "image/png": "[encoded data removed]",
            "text/plain": [
              "<Figure size 640x480 with 1 Axes>"
            ]
          },
          "metadata": {},
          "output_type": "display_data"
        }
      ],
      "source": [
        "# Creating a count plot to visualize the distribution of genres in the 'genre' column\n",
        "sn.countplot(x = amz_books['genre'], palette = 'plasma' )\n",
        "plt.xticks(rotation = 'vertical')"
      ]
    },
    {
      "cell_type": "code",
      "execution_count": 6,
      "metadata": {
        "colab": {
          "base_uri": "https://localhost:8080/",
          "height": 261
        },
        "id": "AeMxNcrDKKLx",
        "outputId": "2d27b4ae-af2d-4747-a08e-50599933fdd6"
      },
      "outputs": [
        {
          "data": {
            "application/vnd.google.colaboratory.intrinsic+json": {
              "type": "string"
            },
            "text/plain": [
              "' As the book opens, Jason awakens on a school bus, unable to remember who or where he is, or anything about his past. He is sitting next to Piper McLean and Leo Valdez, who call him by name and say they are his girlfriend and best friend respectively. All three are part of a class field trip to the Grand Canyon, and after they arrive, a classmate Dylan turns into a Venti (Storm Spirit) and attacks the trio and their trip leader, Coach Gleeson Hedge. In the ensuing fight, Jason surprises everyone, including himself, when one of his coins turns into a sword which he uses to battle the storm spirits. Coach Hedge, who reveals himself to be a satyr during the fight, is taken captive by a fleeing spirit. After the battle, a flying chariot arrives to rescue the trio, but one of the people in it, Annabeth, is upset when she discovers that her missing boyfriend, Percy Jackson, is not there as she expected. Annabeth, seeking Percy, was told in a vision from the goddess Hera to look there for the \"guy with one shoe\", but this turns out to be Jason, who had a shoe destroyed during the fight. Jason, Piper,and Leo are told that they are demigods and are taken back to Camp Half-Blood where they meet other greek demigod children like themselves. There, Leo is revealed as a son of Hephaestus, Piper as a daughter of Aphrodite and Jason as a son of Zeus, though Hera tells him he is her champion. Jason later discovers that he is the full brother of Zeus\\'s demigod daughter Thalia Grace, who is a Hunter of Artemis. Shortly after they arrive, the three are given a quest to rescue Hera, who has been captured, and they set off. They soon discover that their enemies are working under orders from Gaea to overthrow the gods. During their quest, they encounter Thalia and the Hunters, who have been looking for Percy. Thalia and Jason reunite for the first since Jason was captured at the age of two. On the way to Aeolus\\'s castle, Jason, Leo and Piper become separated from Thalia, who promises to meet them at the Wolf House, the last place Thalia had seen Jason before this meeting. After being nearly apprehended by Aeolus, who is under Gaea\\'s orders, the trio manage to escape thanks to Mellie, Aeolus`s former assistant, and end up in San Francisco, thanks to the result of a dream Piper had with Aphrodite. After landing in San Francisco, the trio rush to Mt.Diablo to fight the giant Enceladus, who has kidnapped Piper\\'s father. They manage to kill the giant and save Piper\\'s father, after which they rush to the Wolf House to free Hera. Although the heroes and the Hunters save Hera, the king of the giants, Porphyrion, rises fully and disappears into a hole in the Earth. Jason\\'s memory then starts returning, and he remembers that he is a hero from a Roman counterpart to Camp Half-Blood somewhere near San Francisco, and is the son of Jupiter, Zeus\\'s Roman aspect. He realizes that Hera, also known as Juno, has switched him with Percy Jackson, who will be at the Roman camp with no memory of his life, in the hopes that the two camps would ultimately work together to fight the giants and defeat the goddess Gaea.'"
            ]
          },
          "execution_count": 6,
          "metadata": {},
          "output_type": "execute_result"
        }
      ],
      "source": [
        "# Checking the summary of sample data to understand the content and determine what to include in the cleaning function\n",
        "amz_books['summary'].iloc[1]"
      ]
    },
    {
      "cell_type": "code",
      "execution_count": 7,
      "metadata": {
        "colab": {
          "base_uri": "https://localhost:8080/"
        },
        "id": "nfOpFCUTJ62v",
        "outputId": "83c890da-4a02-4a39-eb48-63de16c105b6"
      },
      "outputs": [
        {
          "name": "stdout",
          "output_type": "stream",
          "text": [
            "as the book opens jason awakens on a school bus unable to remember who or where he is or anything about his past he is sitting next to piper mclean and leo valdez who call him by name and say they are his girlfriend and best friend respectively all three are part of a class field trip to the grand canyon and after they arrive a classmate dylan turns into a venti storm spirit and attacks the trio and their trip leader coach gleeson hedge in the ensuing fight jason surprises everyone including himself when one of his coins turns into a sword which he uses to battle the storm spirits coach hedge who reveals himself to be a satyr during the fight is taken captive by a fleeing spirit after the battle a flying chariot arrives to rescue the trio but one of the people in it annabeth is upset when she discovers that her missing boyfriend percy jackson is not there as she expected annabeth seeking percy was told in a vision from the goddess hera to look there for the guy with one shoe but this turns out to be jason who had a shoe destroyed during the fight jason piper and leo are told that they are demigods and are taken back to camp half blood where they meet other greek demigod children like themselves there leo is revealed as a son of hephaestus piper as a daughter of aphrodite and jason as a son of zeus though hera tells him he is her champion jason later discovers that he is the full brother of zeus s demigod daughter thalia grace who is a hunter of artemis shortly after they arrive the three are given a quest to rescue hera who has been captured and they set off they soon discover that their enemies are working under orders from gaea to overthrow the gods during their quest they encounter thalia and the hunters who have been looking for percy thalia and jason reunite for the first since jason was captured at the age of two on the way to aeolus s castle jason leo and piper become separated from thalia who promises to meet them at the wolf house the last place thalia had seen jason before this meeting after being nearly apprehended by aeolus who is under gaea s orders the trio manage to escape thanks to mellie aeolus s former assistant and end up in san francisco thanks to the result of a dream piper had with aphrodite after landing in san francisco the trio rush to mt diablo to fight the giant enceladus who has kidnapped piper s father they manage to kill the giant and save piper s father after which they rush to the wolf house to free hera although the heroes and the hunters save hera the king of the giants porphyrion rises fully and disappears into a hole in the earth jason s memory then starts returning and he remembers that he is a hero from a roman counterpart to camp half blood somewhere near san francisco and is the son of jupiter zeus s roman aspect he realizes that hera also known as juno has switched him with percy jackson who will be at the roman camp with no memory of his life in the hopes that the two camps would ultimately work together to fight the giants and defeat the goddess gaea\n"
          ]
        }
      ],
      "source": [
        "def text_cleaning(text):\n",
        "  text = re.sub(\"'\\''\", \"\", text)  # Remove backslashes followed by single quotes\n",
        "  text = re.sub(\"[^a-zA-Z]\", \" \", text)  # Replace non-alphabetic characters with spaces\n",
        "  text = ' '.join(text.split())  # Remove extra whitespace\n",
        "  text = text.lower()  # Convert text to lowercase\n",
        "  return text\n",
        "\n",
        "# Apply the text_cleaning function to the 'summary' column of amz_books\n",
        "amz_books['summary'] = amz_books['summary'].apply(lambda x: text_cleaning(x))\n",
        "\n",
        "# Print the cleaned summary of the second row\n",
        "print(amz_books['summary'].iloc[1])\n"
      ]
    },
    {
      "cell_type": "code",
      "execution_count": 8,
      "metadata": {
        "colab": {
          "base_uri": "https://localhost:8080/",
          "height": 811
        },
        "id": "YGvJPRG8L5wI",
        "outputId": "e09cc2ba-3106-41d3-eb21-345fd9a3854c"
      },
      "outputs": [
        {
          "data": {
            "image/png": "[encoded data removed]",
            "text/plain": [
              "<Figure size 700x500 with 1 Axes>"
            ]
          },
          "metadata": {},
          "output_type": "display_data"
        },
        {
          "data": {
            "text/html": [
              "<style type=\"text/css\">\n",
              "#T_5df79_row0_col1 {\n",
              "  background-color: #f0f921;\n",
              "  color: #000000;\n",
              "}\n",
              "#T_5df79_row1_col1 {\n",
              "  background-color: #b02991;\n",
              "  color: #f1f1f1;\n",
              "}\n",
              "#T_5df79_row2_col1 {\n",
              "  background-color: #a62098;\n",
              "  color: #f1f1f1;\n",
              "}\n",
              "#T_5df79_row3_col1 {\n",
              "  background-color: #8004a8;\n",
              "  color: #f1f1f1;\n",
              "}\n",
              "#T_5df79_row4_col1 {\n",
              "  background-color: #7a02a8;\n",
              "  color: #f1f1f1;\n",
              "}\n",
              "#T_5df79_row5_col1 {\n",
              "  background-color: #3e049c;\n",
              "  color: #f1f1f1;\n",
              "}\n",
              "#T_5df79_row6_col1 {\n",
              "  background-color: #38049a;\n",
              "  color: #f1f1f1;\n",
              "}\n",
              "#T_5df79_row7_col1 {\n",
              "  background-color: #130789;\n",
              "  color: #f1f1f1;\n",
              "}\n",
              "#T_5df79_row8_col1 {\n",
              "  background-color: #100788;\n",
              "  color: #f1f1f1;\n",
              "}\n",
              "#T_5df79_row9_col1 {\n",
              "  background-color: #0d0887;\n",
              "  color: #f1f1f1;\n",
              "}\n",
              "</style>\n",
              "<table id=\"T_5df79\" class=\"dataframe\">\n",
              "  <thead>\n",
              "    <tr>\n",
              "      <th class=\"blank level0\" >&nbsp;</th>\n",
              "      <th id=\"T_5df79_level0_col0\" class=\"col_heading level0 col0\" >word</th>\n",
              "      <th id=\"T_5df79_level0_col1\" class=\"col_heading level0 col1\" >count</th>\n",
              "    </tr>\n",
              "  </thead>\n",
              "  <tbody>\n",
              "    <tr>\n",
              "      <th id=\"T_5df79_level0_row0\" class=\"row_heading level0 row0\" >3</th>\n",
              "      <td id=\"T_5df79_row0_col0\" class=\"data row0 col0\" >the</td>\n",
              "      <td id=\"T_5df79_row0_col1\" class=\"data row0 col1\" >99808</td>\n",
              "    </tr>\n",
              "    <tr>\n",
              "      <th id=\"T_5df79_level0_row1\" class=\"row_heading level0 row1\" >17</th>\n",
              "      <td id=\"T_5df79_row1_col0\" class=\"data row1 col0\" >to</td>\n",
              "      <td id=\"T_5df79_row1_col1\" class=\"data row1 col1\" >49665</td>\n",
              "    </tr>\n",
              "    <tr>\n",
              "      <th id=\"T_5df79_level0_row2\" class=\"row_heading level0 row2\" >14</th>\n",
              "      <td id=\"T_5df79_row2_col0\" class=\"data row2 col0\" >and</td>\n",
              "      <td id=\"T_5df79_row2_col1\" class=\"data row2 col1\" >47183</td>\n",
              "    </tr>\n",
              "    <tr>\n",
              "      <th id=\"T_5df79_level0_row3\" class=\"row_heading level0 row3\" >46</th>\n",
              "      <td id=\"T_5df79_row3_col0\" class=\"data row3 col0\" >of</td>\n",
              "      <td id=\"T_5df79_row3_col1\" class=\"data row3 col1\" >38003</td>\n",
              "    </tr>\n",
              "    <tr>\n",
              "      <th id=\"T_5df79_level0_row4\" class=\"row_heading level0 row4\" >23</th>\n",
              "      <td id=\"T_5df79_row4_col0\" class=\"data row4 col0\" >a</td>\n",
              "      <td id=\"T_5df79_row4_col1\" class=\"data row4 col1\" >36749</td>\n",
              "    </tr>\n",
              "    <tr>\n",
              "      <th id=\"T_5df79_level0_row5\" class=\"row_heading level0 row5\" >80</th>\n",
              "      <td id=\"T_5df79_row5_col0\" class=\"data row5 col0\" >in</td>\n",
              "      <td id=\"T_5df79_row5_col1\" class=\"data row5 col1\" >24496</td>\n",
              "    </tr>\n",
              "    <tr>\n",
              "      <th id=\"T_5df79_level0_row6\" class=\"row_heading level0 row6\" >2</th>\n",
              "      <td id=\"T_5df79_row6_col0\" class=\"data row6 col0\" >is</td>\n",
              "      <td id=\"T_5df79_row6_col1\" class=\"data row6 col1\" >23358</td>\n",
              "    </tr>\n",
              "    <tr>\n",
              "      <th id=\"T_5df79_level0_row7\" class=\"row_heading level0 row7\" >49</th>\n",
              "      <td id=\"T_5df79_row7_col0\" class=\"data row7 col0\" >his</td>\n",
              "      <td id=\"T_5df79_row7_col1\" class=\"data row7 col1\" >17464</td>\n",
              "    </tr>\n",
              "    <tr>\n",
              "      <th id=\"T_5df79_level0_row8\" class=\"row_heading level0 row8\" >51</th>\n",
              "      <td id=\"T_5df79_row8_col0\" class=\"data row8 col0\" >he</td>\n",
              "      <td id=\"T_5df79_row8_col1\" class=\"data row8 col1\" >17210</td>\n",
              "    </tr>\n",
              "    <tr>\n",
              "      <th id=\"T_5df79_level0_row9\" class=\"row_heading level0 row9\" >12</th>\n",
              "      <td id=\"T_5df79_row9_col0\" class=\"data row9 col0\" >s</td>\n",
              "      <td id=\"T_5df79_row9_col1\" class=\"data row9 col1\" >16710</td>\n",
              "    </tr>\n",
              "  </tbody>\n",
              "</table>\n"
            ],
            "text/plain": [
              "<pandas.io.formats.style.Styler at 0x7f13d1fcfe50>"
            ]
          },
          "execution_count": 8,
          "metadata": {},
          "output_type": "execute_result"
        }
      ],
      "source": [
        "#plotting the most frequent words \n",
        "#these are mostly stopwords and they do not affect the meaning of the sentence\n",
        "def frequentWords(text, num_words):\n",
        "\n",
        "  # Combine all characters in the text into a single string\n",
        "  words = ' '.join([char for char in text])\n",
        "\n",
        "  # Split the string into individual words\n",
        "  words = words.split()\n",
        "\n",
        "  # Compute the frequency distribution of words\n",
        "  distribution = nltk.FreqDist(words)\n",
        "\n",
        "  # Create a DataFrame to store the word counts\n",
        "  df_words = pd.DataFrame({'word': list(distribution.keys()), 'count':list(distribution.values())})\n",
        "\n",
        "  # Select the top 'num_words' words with the highest count\n",
        "  df = df_words.nlargest(columns =\"count\", n = num_words)\n",
        "\n",
        "  # Create a bar plot to visualize the word counts\n",
        "  plt.figure(figsize=(7,5))\n",
        "  ax = sn.barplot(data= df, x = 'count', y = 'word')\n",
        "  ax.set(ylabel = 'word')\n",
        "  plt.show()\n",
        "\n",
        "  return df_words\n",
        "\n",
        "df_words = frequentWords(amz_books['summary'], 20)\n",
        "df_words.sort_values('count',ascending = False).head(10).style.background_gradient(cmap = 'plasma')"
      ]
    },
    {
      "cell_type": "code",
      "execution_count": 9,
      "metadata": {
        "colab": {
          "base_uri": "https://localhost:8080/"
        },
        "id": "s6f_TcnLk6jZ",
        "outputId": "68376365-2078-44dc-c7a0-fa5265123611"
      },
      "outputs": [
        {
          "name": "stderr",
          "output_type": "stream",
          "text": [
            "[nltk_data] Downloading package stopwords to /root/nltk_data...\n",
            "[nltk_data]   Unzipping corpora/stopwords.zip.\n"
          ]
        },
        {
          "data": {
            "text/plain": [
              "True"
            ]
          },
          "execution_count": 9,
          "metadata": {},
          "output_type": "execute_result"
        }
      ],
      "source": [
        "##downloading the stops words of nltk\n",
        "nltk.download('stopwords')"
      ]
    },
    {
      "cell_type": "code",
      "execution_count": 10,
      "metadata": {
        "colab": {
          "base_uri": "https://localhost:8080/",
          "height": 261
        },
        "id": "5XOT-oncWvc8",
        "outputId": "7d12d13d-acdb-4f9b-d40d-f4c2a5743715"
      },
      "outputs": [
        {
          "data": {
            "application/vnd.google.colaboratory.intrinsic+json": {
              "type": "string"
            },
            "text/plain": [
              "'book opens jason awakens school bus unable remember anything past sitting next piper mclean leo valdez call name say girlfriend best friend respectively three part class field trip grand canyon arrive classmate dylan turns venti storm spirit attacks trio trip leader coach gleeson hedge ensuing fight jason surprises everyone including one coins turns sword uses battle storm spirits coach hedge reveals satyr fight taken captive fleeing spirit battle flying chariot arrives rescue trio one people annabeth upset discovers missing boyfriend percy jackson expected annabeth seeking percy told vision goddess hera look guy one shoe turns jason shoe destroyed fight jason piper leo told demigods taken back camp half blood meet greek demigod children like leo revealed son hephaestus piper daughter aphrodite jason son zeus though hera tells champion jason later discovers full brother zeus demigod daughter thalia grace hunter artemis shortly arrive three given quest rescue hera captured set soon discover enemies working orders gaea overthrow gods quest encounter thalia hunters looking percy thalia jason reunite first since jason captured age two way aeolus castle jason leo piper become separated thalia promises meet wolf house last place thalia seen jason meeting nearly apprehended aeolus gaea orders trio manage escape thanks mellie aeolus former assistant end san francisco thanks result dream piper aphrodite landing san francisco trio rush mt diablo fight giant enceladus kidnapped piper father manage kill giant save piper father rush wolf house free hera although heroes hunters save hera king giants porphyrion rises fully disappears hole earth jason memory starts returning remembers hero roman counterpart camp half blood somewhere near san francisco son jupiter zeus roman aspect realizes hera also known juno switched percy jackson roman camp memory life hopes two camps would ultimately work together fight giants defeat goddess gaea'"
            ]
          },
          "execution_count": 10,
          "metadata": {},
          "output_type": "execute_result"
        }
      ],
      "source": [
        "from nltk.corpus import stopwords\n",
        "stop_words = set(stopwords.words('english'))\n",
        "\n",
        "# defining the stopwords removal function\n",
        "def remove_stopwords(text):\n",
        "  removed_words = [word for word in text.split() if word not in stop_words]\n",
        "  return ' '.join(removed_words)\n",
        "\n",
        "amz_books['summary'] = amz_books['summary'].apply(lambda x:remove_stopwords(x))\n",
        "amz_books['summary'].iloc[1]"
      ]
    },
    {
      "cell_type": "code",
      "execution_count": 11,
      "metadata": {
        "colab": {
          "base_uri": "https://localhost:8080/"
        },
        "id": "gPDCLyy8m11N",
        "outputId": "02eb297b-1f97-4f04-e8b5-2bfaee6b08a6"
      },
      "outputs": [
        {
          "name": "stderr",
          "output_type": "stream",
          "text": [
            "[nltk_data] Downloading package wordnet to /root/nltk_data...\n"
          ]
        },
        {
          "data": {
            "text/plain": [
              "True"
            ]
          },
          "execution_count": 11,
          "metadata": {},
          "output_type": "execute_result"
        }
      ],
      "source": [
        "#lemmatizing\n",
        "nltk.download('wordnet')"
      ]
    },
    {
      "cell_type": "code",
      "execution_count": 12,
      "metadata": {
        "id": "UENTnwQLrHNo"
      },
      "outputs": [],
      "source": [
        "from nltk.tag.brill import Word\n",
        "from nltk.stem import WordNetLemmatizer\n",
        "word_lemma = WordNetLemmatizer()\n",
        "\n",
        "def lemmatizing(sentence):\n",
        "  stemSentence = \"\"\n",
        "  for word in sentence.split():\n",
        "    stemmed = word_lemma.lemmatize(word)\n",
        "    stemSentence += stemmed\n",
        "    stemSentence += \" \"\n",
        "  stemSentence = stemSentence.strip()\n",
        "  return stemSentence\n",
        "\n",
        "amz_books['summary'] = amz_books['summary'].apply(lambda x:lemmatizing(x))"
      ]
    },
    {
      "cell_type": "code",
      "execution_count": 13,
      "metadata": {
        "colab": {
          "base_uri": "https://localhost:8080/",
          "height": 261
        },
        "id": "eLNHNqRardwZ",
        "outputId": "c5a9ca98-ca9e-44a2-fcae-9cd329e4f804"
      },
      "outputs": [
        {
          "data": {
            "application/vnd.google.colaboratory.intrinsic+json": {
              "type": "string"
            },
            "text/plain": [
              "'book open jason awaken school bu unabl rememb anyth past sit next piper mclean leo valdez call name say girlfriend best friend respect three part class field trip grand canyon arriv classmat dylan turn venti storm spirit attack trio trip leader coach gleeson hedg ensu fight jason surpris everyon includ one coin turn sword us battl storm spirit coach hedg reveal satyr fight taken captiv flee spirit battl fli chariot arriv rescu trio one peopl annabeth upset discov miss boyfriend perci jackson expect annabeth seek perci told vision goddess hera look guy one shoe turn jason shoe destroy fight jason piper leo told demigod taken back camp half blood meet greek demigod child like leo reveal son hephaestu piper daughter aphrodit jason son zeu though hera tell champion jason later discov full brother zeu demigod daughter thalia grace hunter artemi shortli arriv three given quest rescu hera captur set soon discov enemi work order gaea overthrow god quest encount thalia hunter look perci thalia jason reunit first sinc jason captur age two way aeolu castl jason leo piper becom separ thalia promis meet wolf hous last place thalia seen jason meet nearli apprehend aeolu gaea order trio manag escap thank melli aeolu former assist end san francisco thank result dream piper aphrodit land san francisco trio rush mt diablo fight giant enceladu kidnap piper father manag kill giant save piper father rush wolf hous free hera although hero hunter save hera king giant porphyrion rise fulli disappear hole earth jason memori start return rememb hero roman counterpart camp half blood somewher near san francisco son jupit zeu roman aspect realiz hera also known juno switch perci jackson roman camp memori life hope two camp would ultim work togeth fight giant defeat goddess gaea'"
            ]
          },
          "execution_count": 13,
          "metadata": {},
          "output_type": "execute_result"
        }
      ],
      "source": [
        "#stemming\n",
        "from nltk.stem import PorterStemmer\n",
        "stemmer = PorterStemmer()\n",
        "\n",
        "def stemming(sentence):\n",
        "  stemmed_sentence = \"\"\n",
        "  for word in sentence.split():\n",
        "    stem = stemmer.stem(word)\n",
        "    stemmed_sentence += stem\n",
        "    stemmed_sentence += \" \"\n",
        "  \n",
        "  stemmed_sentence = stemmed_sentence.strip()\n",
        "  return stemmed_sentence\n",
        "\n",
        "amz_books['summary'] = amz_books['summary'].apply(lambda text: stemming(text))\n",
        "amz_books['summary'].iloc[1]"
      ]
    },
    {
      "cell_type": "code",
      "execution_count": 14,
      "metadata": {
        "colab": {
          "base_uri": "https://localhost:8080/",
          "height": 794
        },
        "id": "n7gKCa2vEhhU",
        "outputId": "67b99d27-b99a-4882-f69a-8801ff6980ff"
      },
      "outputs": [
        {
          "data": {
            "image/png": "[encoded data removed]",
            "text/plain": [
              "<Figure size 700x500 with 1 Axes>"
            ]
          },
          "metadata": {},
          "output_type": "display_data"
        },
        {
          "data": {
            "text/html": [
              "<style type=\"text/css\">\n",
              "#T_e67f9_row0_col1 {\n",
              "  background-color: #f0f921;\n",
              "  color: #000000;\n",
              "}\n",
              "#T_e67f9_row1_col1 {\n",
              "  background-color: #fdab33;\n",
              "  color: #000000;\n",
              "}\n",
              "#T_e67f9_row2_col1 {\n",
              "  background-color: #f58b47;\n",
              "  color: #f1f1f1;\n",
              "}\n",
              "#T_e67f9_row3_col1 {\n",
              "  background-color: #a01a9c;\n",
              "  color: #f1f1f1;\n",
              "}\n",
              "#T_e67f9_row4_col1 {\n",
              "  background-color: #7801a8;\n",
              "  color: #f1f1f1;\n",
              "}\n",
              "#T_e67f9_row5_col1 {\n",
              "  background-color: #6c00a8;\n",
              "  color: #f1f1f1;\n",
              "}\n",
              "#T_e67f9_row6_col1 {\n",
              "  background-color: #280592;\n",
              "  color: #f1f1f1;\n",
              "}\n",
              "#T_e67f9_row7_col1 {\n",
              "  background-color: #240691;\n",
              "  color: #f1f1f1;\n",
              "}\n",
              "#T_e67f9_row8_col1 {\n",
              "  background-color: #16078a;\n",
              "  color: #f1f1f1;\n",
              "}\n",
              "#T_e67f9_row9_col1 {\n",
              "  background-color: #0d0887;\n",
              "  color: #f1f1f1;\n",
              "}\n",
              "</style>\n",
              "<table id=\"T_e67f9\" class=\"dataframe\">\n",
              "  <thead>\n",
              "    <tr>\n",
              "      <th class=\"blank level0\" >&nbsp;</th>\n",
              "      <th id=\"T_e67f9_level0_col0\" class=\"col_heading level0 col0\" >word</th>\n",
              "      <th id=\"T_e67f9_level0_col1\" class=\"col_heading level0 col1\" >count</th>\n",
              "    </tr>\n",
              "  </thead>\n",
              "  <tbody>\n",
              "    <tr>\n",
              "      <th id=\"T_e67f9_level0_row0\" class=\"row_heading level0 row0\" >242</th>\n",
              "      <td id=\"T_e67f9_row0_col0\" class=\"data row0 col0\" >one</td>\n",
              "      <td id=\"T_e67f9_row0_col1\" class=\"data row0 col1\" >3858</td>\n",
              "    </tr>\n",
              "    <tr>\n",
              "      <th id=\"T_e67f9_level0_row1\" class=\"row_heading level0 row1\" >230</th>\n",
              "      <td id=\"T_e67f9_row1_col0\" class=\"data row1 col0\" >find</td>\n",
              "      <td id=\"T_e67f9_row1_col1\" class=\"data row1 col1\" >3533</td>\n",
              "    </tr>\n",
              "    <tr>\n",
              "      <th id=\"T_e67f9_level0_row2\" class=\"row_heading level0 row2\" >240</th>\n",
              "      <td id=\"T_e67f9_row2_col0\" class=\"data row2 col0\" >kill</td>\n",
              "      <td id=\"T_e67f9_row2_col1\" class=\"data row2 col1\" >3380</td>\n",
              "    </tr>\n",
              "    <tr>\n",
              "      <th id=\"T_e67f9_level0_row3\" class=\"row_heading level0 row3\" >153</th>\n",
              "      <td id=\"T_e67f9_row3_col0\" class=\"data row3 col0\" >take</td>\n",
              "      <td id=\"T_e67f9_row3_col1\" class=\"data row3 col1\" >2743</td>\n",
              "    </tr>\n",
              "    <tr>\n",
              "      <th id=\"T_e67f9_level0_row4\" class=\"row_heading level0 row4\" >1143</th>\n",
              "      <td id=\"T_e67f9_row4_col0\" class=\"data row4 col0\" >time</td>\n",
              "      <td id=\"T_e67f9_row4_col1\" class=\"data row4 col1\" >2563</td>\n",
              "    </tr>\n",
              "    <tr>\n",
              "      <th id=\"T_e67f9_level0_row5\" class=\"row_heading level0 row5\" >88</th>\n",
              "      <td id=\"T_e67f9_row5_col0\" class=\"data row5 col0\" >go</td>\n",
              "      <td id=\"T_e67f9_row5_col1\" class=\"data row5 col1\" >2509</td>\n",
              "    </tr>\n",
              "    <tr>\n",
              "      <th id=\"T_e67f9_level0_row6\" class=\"row_heading level0 row6\" >38</th>\n",
              "      <td id=\"T_e67f9_row6_col0\" class=\"data row6 col0\" >two</td>\n",
              "      <td id=\"T_e67f9_row6_col1\" class=\"data row6 col1\" >2235</td>\n",
              "    </tr>\n",
              "    <tr>\n",
              "      <th id=\"T_e67f9_level0_row7\" class=\"row_heading level0 row7\" >418</th>\n",
              "      <td id=\"T_e67f9_row7_col0\" class=\"data row7 col0\" >life</td>\n",
              "      <td id=\"T_e67f9_row7_col1\" class=\"data row7 col1\" >2224</td>\n",
              "    </tr>\n",
              "    <tr>\n",
              "      <th id=\"T_e67f9_level0_row8\" class=\"row_heading level0 row8\" >415</th>\n",
              "      <td id=\"T_e67f9_row8_col0\" class=\"data row8 col0\" >also</td>\n",
              "      <td id=\"T_e67f9_row8_col1\" class=\"data row8 col1\" >2179</td>\n",
              "    </tr>\n",
              "    <tr>\n",
              "      <th id=\"T_e67f9_level0_row9\" class=\"row_heading level0 row9\" >407</th>\n",
              "      <td id=\"T_e67f9_row9_col0\" class=\"data row9 col0\" >return</td>\n",
              "      <td id=\"T_e67f9_row9_col1\" class=\"data row9 col1\" >2158</td>\n",
              "    </tr>\n",
              "  </tbody>\n",
              "</table>\n"
            ],
            "text/plain": [
              "<pandas.io.formats.style.Styler at 0x7f13d1b04670>"
            ]
          },
          "execution_count": 14,
          "metadata": {},
          "output_type": "execute_result"
        }
      ],
      "source": [
        "df_words = frequentWords(amz_books['summary'], 20)\n",
        "df_words.sort_values('count', ascending = False).head(10).style.background_gradient(cmap = 'plasma')"
      ]
    },
    {
      "attachments": {},
      "cell_type": "markdown",
      "metadata": {
        "id": "EhlO7fjoDK1c"
      },
      "source": [
        "# Encoding genres for unique reference"
      ]
    },
    {
      "cell_type": "code",
      "execution_count": 15,
      "metadata": {
        "colab": {
          "base_uri": "https://localhost:8080/"
        },
        "id": "-HonjAg8Egge",
        "outputId": "2b2f4752-b3be-436d-b8b4-9ab3819e256c"
      },
      "outputs": [
        {
          "name": "stdout",
          "output_type": "stream",
          "text": [
            "{'Fantasy': 0, 'Science Fiction': 1, 'Crime Fiction': 2, 'Historical novel': 3, 'Horror': 4, 'Thriller': 5}\n"
          ]
        },
        {
          "data": {
            "text/plain": [
              "array([0, 1, 2, 3, 4, 5])"
            ]
          },
          "execution_count": 15,
          "metadata": {},
          "output_type": "execute_result"
        }
      ],
      "source": [
        "#At this stage we are getting all the unique values in the genre column for encoding\n",
        "genre_list = list(amz_books['genre'].unique())\n",
        "encoded = [i for i in range(len(genre_list))]\n",
        "mapper = dict(zip(genre_list, encoded))\n",
        "print(mapper)\n",
        "\n",
        "amz_books['genre'] = amz_books['genre'].map(mapper)\n",
        "amz_books['genre'].unique()"
      ]
    },
    {
      "attachments": {},
      "cell_type": "markdown",
      "metadata": {
        "id": "-K8NCFPQJBgl"
      },
      "source": [
        "# Model Building\n",
        "Converting text in to the numerical representation using vectorizer"
      ]
    },
    {
      "cell_type": "code",
      "execution_count": 16,
      "metadata": {
        "colab": {
          "base_uri": "https://localhost:8080/"
        },
        "id": "6iRZPSRnHa-p",
        "outputId": "ba0dc832-c0ce-423a-a72d-ff2f959f636e"
      },
      "outputs": [
        {
          "data": {
            "text/plain": [
              "<3000x1000 sparse matrix of type '<class 'numpy.int64'>'\n",
              "\twith 245387 stored elements in Compressed Sparse Row format>"
            ]
          },
          "execution_count": 16,
          "metadata": {},
          "output_type": "execute_result"
        }
      ],
      "source": [
        "vectorized_text = CountVectorizer(max_df = 0.90, min_df = 2,\n",
        "                                  max_features = 1000, stop_words = 'english')\n",
        "vectorized_word = vectorized_text.fit_transform(amz_books['summary'])\n",
        "vectorized_word"
      ]
    },
    {
      "cell_type": "code",
      "execution_count": 17,
      "metadata": {
        "colab": {
          "base_uri": "https://localhost:8080/"
        },
        "id": "H_UdI2eKh5gK",
        "outputId": "e6f2e353-877f-4b0c-d7a2-9876c9b196f5"
      },
      "outputs": [
        {
          "data": {
            "text/plain": [
              "((2400, 1000), (600, 1000))"
            ]
          },
          "execution_count": 17,
          "metadata": {},
          "output_type": "execute_result"
        }
      ],
      "source": [
        "test = amz_books['genre']\n",
        "X_train, X_test, y_train, y_test = train_test_split(vectorized_word, test, test_size = 0.2)\n",
        "X_train.shape, X_test.shape"
      ]
    },
    {
      "cell_type": "code",
      "execution_count": 18,
      "metadata": {
        "colab": {
          "base_uri": "https://localhost:8080/"
        },
        "id": "84A2heAnidP0",
        "outputId": "61b0c28e-fb23-4adf-a1fc-17d6360604d9"
      },
      "outputs": [
        {
          "name": "stdout",
          "output_type": "stream",
          "text": [
            "0.5733333333333334\n"
          ]
        }
      ],
      "source": [
        "svc = SVC()\n",
        "svc.fit(X_train, y_train)\n",
        "predictions_svc = svc.predict(X_test)\n",
        "print(metrics.accuracy_score(y_test,predictions_svc))"
      ]
    },
    {
      "cell_type": "code",
      "execution_count": 19,
      "metadata": {
        "colab": {
          "base_uri": "https://localhost:8080/"
        },
        "id": "cURH4WjNjESi",
        "outputId": "5a1ef6f7-6420-48ed-f2e3-141bbd78ba75"
      },
      "outputs": [
        {
          "name": "stdout",
          "output_type": "stream",
          "text": [
            "0.6483333333333333\n"
          ]
        }
      ],
      "source": [
        "###Multinomial Distribution\n",
        "multiDist = MultinomialNB()\n",
        "multiDist.fit(X_train, y_train)\n",
        "multiDist_pred = multiDist.predict(X_test)\n",
        "print(metrics.accuracy_score(y_test, multiDist_pred))"
      ]
    },
    {
      "cell_type": "code",
      "execution_count": 20,
      "metadata": {
        "colab": {
          "base_uri": "https://localhost:8080/"
        },
        "id": "PlPHB-dn69JQ",
        "outputId": "4bbd13ab-60fb-4a86-f084-59e5d4759c01"
      },
      "outputs": [
        {
          "name": "stdout",
          "output_type": "stream",
          "text": [
            "0.625\n"
          ]
        }
      ],
      "source": [
        "random_f = RandomForestClassifier()\n",
        "random_f.fit(X_train, y_train)\n",
        "print(metrics.accuracy_score(y_test,random_f.predict(X_test)))"
      ]
    },
    {
      "attachments": {},
      "cell_type": "markdown",
      "metadata": {
        "id": "3-Z_sYrOR41k"
      },
      "source": [
        "With Count vectorizing average results we will try the TDIF vectorizer"
      ]
    },
    {
      "cell_type": "code",
      "execution_count": 21,
      "metadata": {
        "colab": {
          "base_uri": "https://localhost:8080/"
        },
        "id": "TKV9G209U1nk",
        "outputId": "d02e4250-25b8-4329-bfbc-29d526fd9f2e"
      },
      "outputs": [
        {
          "data": {
            "text/plain": [
              "((2400,), (600,))"
            ]
          },
          "execution_count": 21,
          "metadata": {},
          "output_type": "execute_result"
        }
      ],
      "source": [
        "##Labeling the genre\n",
        "from sklearn.preprocessing import LabelEncoder\n",
        "label_encode = LabelEncoder()\n",
        "fitting = label_encode.fit_transform(amz_books['genre'])\n",
        "\n",
        "X_train, X_test, y_train, y_test = train_test_split(amz_books['summary'], fitting, test_size=0.2, random_state=557)\n",
        "\n",
        "X_train.shape, X_test.shape"
      ]
    },
    {
      "cell_type": "code",
      "execution_count": 22,
      "metadata": {
        "id": "ipdQoED1R4Bf"
      },
      "outputs": [],
      "source": [
        "tfid_vector = TfidfVectorizer(max_df=0.8, max_features = 10000)\n",
        "tfid_xtrain = tfid_vector.fit_transform(X_train.values.astype('U'))\n",
        "tfid_xtest = tfid_vector.transform(X_test.values.astype('U'))"
      ]
    },
    {
      "cell_type": "code",
      "execution_count": 23,
      "metadata": {
        "colab": {
          "base_uri": "https://localhost:8080/"
        },
        "id": "K8C392YdUTgM",
        "outputId": "941ba295-1950-40f4-f364-91c393f3d702"
      },
      "outputs": [
        {
          "name": "stdout",
          "output_type": "stream",
          "text": [
            "0.775\n"
          ]
        }
      ],
      "source": [
        "svc.fit(tfid_xtrain, y_train)\n",
        "predicted_svc = svc.predict(tfid_xtest)\n",
        "print(metrics.accuracy_score(y_test,predicted_svc))"
      ]
    },
    {
      "cell_type": "code",
      "execution_count": 24,
      "metadata": {
        "colab": {
          "base_uri": "https://localhost:8080/"
        },
        "id": "CoYC8e_NU52-",
        "outputId": "d2783e22-7eb4-4789-b8fc-80b581a3d0e1"
      },
      "outputs": [
        {
          "name": "stdout",
          "output_type": "stream",
          "text": [
            "0.78\n"
          ]
        }
      ],
      "source": [
        "multiDist.fit(tfid_xtrain, y_train)\n",
        "tf_multiDist = multiDist.predict(tfid_xtest)\n",
        "print(metrics.accuracy_score(y_test, tf_multiDist))"
      ]
    },
    {
      "cell_type": "code",
      "execution_count": 25,
      "metadata": {
        "colab": {
          "base_uri": "https://localhost:8080/"
        },
        "id": "BpmGox_LqFhn",
        "outputId": "84fb3927-da77-4715-adf9-6e14f893f5d6"
      },
      "outputs": [
        {
          "data": {
            "text/plain": [
              "0       [0]\n",
              "1       [0]\n",
              "2       [0]\n",
              "3       [0]\n",
              "4       [0]\n",
              "       ... \n",
              "2995    [1]\n",
              "2996    [5]\n",
              "2997    [5]\n",
              "2998    [5]\n",
              "2999    [5]\n",
              "Name: summary, Length: 3000, dtype: object"
            ]
          },
          "execution_count": 25,
          "metadata": {},
          "output_type": "execute_result"
        }
      ],
      "source": [
        "def test(text, model):\n",
        "  text = text_cleaning(text)\n",
        "  text = remove_stopwords(text)\n",
        "  text = lemmatizing(text)\n",
        "  text = stemming(text)\n",
        "\n",
        "  vectorized_text = tfid_vector.transform([text])\n",
        "  predicted = model.predict(vectorized_text)\n",
        "  return predicted\n",
        "\n",
        "amz = amz_books['summary'].apply(lambda text:test(text,multiDist))\n",
        "amz"
      ]
    },
    {
      "cell_type": "code",
      "execution_count": 26,
      "metadata": {
        "colab": {
          "base_uri": "https://localhost:8080/"
        },
        "id": "8d7VDZowBt3H",
        "outputId": "d26731a2-05fd-4842-f384-672be7223a2c"
      },
      "outputs": [
        {
          "data": {
            "text/plain": [
              "0"
            ]
          },
          "execution_count": 26,
          "metadata": {},
          "output_type": "execute_result"
        }
      ],
      "source": [
        "amz[0][0]"
      ]
    },
    {
      "cell_type": "code",
      "execution_count": 27,
      "metadata": {
        "id": "2WGT_iycB_ah"
      },
      "outputs": [],
      "source": [
        "#assigns predicted class labels to the predicted_class \n",
        "#list based on the values in the amz list and a mapper dictionary.\n",
        "predicted_class = []\n",
        "for i in range(len(amz)):\n",
        "  index_val = amz[i][0]\n",
        "  predicted_class.append(list(mapper.keys())[list(mapper.values()).index(index_val)])"
      ]
    },
    {
      "cell_type": "code",
      "execution_count": 28,
      "metadata": {
        "colab": {
          "base_uri": "https://localhost:8080/"
        },
        "id": "So8yxatiQaIf",
        "outputId": "9f83d7bd-546c-49e6-873c-87dda956fbf6"
      },
      "outputs": [
        {
          "data": {
            "text/plain": [
              "{0: 'Fantasy',\n",
              " 1: 'Science Fiction',\n",
              " 2: 'Crime Fiction',\n",
              " 3: 'Historical novel',\n",
              " 4: 'Horror',\n",
              " 5: 'Thriller'}"
            ]
          },
          "execution_count": 28,
          "metadata": {},
          "output_type": "execute_result"
        }
      ],
      "source": [
        "updated_mapper = dict([(value, key) for key, value in mapper.items()])\n",
        "updated_mapper"
      ]
    },
    {
      "cell_type": "code",
      "execution_count": 29,
      "metadata": {
        "colab": {
          "base_uri": "https://localhost:8080/",
          "height": 832
        },
        "id": "ie-Zb4XjRWps",
        "outputId": "11d0ce71-2380-4bc7-863c-ff7a08e56587"
      },
      "outputs": [
        {
          "data": {
            "text/html": [
              "\n",
              "  <div id=\"df-abbb13f6-12b3-400a-af81-d09d9ac36f0b\">\n",
              "    <div class=\"colab-df-container\">\n",
              "      <div>\n",
              "<style scoped>\n",
              "    .dataframe tbody tr th:only-of-type {\n",
              "        vertical-align: middle;\n",
              "    }\n",
              "\n",
              "    .dataframe tbody tr th {\n",
              "        vertical-align: top;\n",
              "    }\n",
              "\n",
              "    .dataframe thead th {\n",
              "        text-align: right;\n",
              "    }\n",
              "</style>\n",
              "<table border=\"1\" class=\"dataframe\">\n",
              "  <thead>\n",
              "    <tr style=\"text-align: right;\">\n",
              "      <th></th>\n",
              "      <th>book_id</th>\n",
              "      <th>book_name</th>\n",
              "      <th>genre</th>\n",
              "      <th>summary</th>\n",
              "      <th>Actual Genre</th>\n",
              "      <th>Predicted Genre</th>\n",
              "    </tr>\n",
              "  </thead>\n",
              "  <tbody>\n",
              "    <tr>\n",
              "      <th>0</th>\n",
              "      <td>3248537</td>\n",
              "      <td>Drowned Wednesday</td>\n",
              "      <td>0</td>\n",
              "      <td>drown wednesday first truste among morrow day ...</td>\n",
              "      <td>Fantasy</td>\n",
              "      <td>Fantasy</td>\n",
              "    </tr>\n",
              "    <tr>\n",
              "      <th>1</th>\n",
              "      <td>27796919</td>\n",
              "      <td>The Lost Hero</td>\n",
              "      <td>0</td>\n",
              "      <td>book open jason awaken school bu unabl rememb ...</td>\n",
              "      <td>Fantasy</td>\n",
              "      <td>Fantasy</td>\n",
              "    </tr>\n",
              "    <tr>\n",
              "      <th>2</th>\n",
              "      <td>3910776</td>\n",
              "      <td>The Eyes of the Overworld</td>\n",
              "      <td>0</td>\n",
              "      <td>cugel easili persuad merchant fianosth attempt...</td>\n",
              "      <td>Fantasy</td>\n",
              "      <td>Fantasy</td>\n",
              "    </tr>\n",
              "    <tr>\n",
              "      <th>3</th>\n",
              "      <td>5969644</td>\n",
              "      <td>Magic's Promise</td>\n",
              "      <td>0</td>\n",
              "      <td>book open herald mage vanyel return countri va...</td>\n",
              "      <td>Fantasy</td>\n",
              "      <td>Fantasy</td>\n",
              "    </tr>\n",
              "    <tr>\n",
              "      <th>4</th>\n",
              "      <td>3173445</td>\n",
              "      <td>Taran Wanderer</td>\n",
              "      <td>0</td>\n",
              "      <td>taran gurgi return caer dallben follow event t...</td>\n",
              "      <td>Fantasy</td>\n",
              "      <td>Fantasy</td>\n",
              "    </tr>\n",
              "    <tr>\n",
              "      <th>...</th>\n",
              "      <td>...</td>\n",
              "      <td>...</td>\n",
              "      <td>...</td>\n",
              "      <td>...</td>\n",
              "      <td>...</td>\n",
              "      <td>...</td>\n",
              "    </tr>\n",
              "    <tr>\n",
              "      <th>2995</th>\n",
              "      <td>10372180</td>\n",
              "      <td>White Death</td>\n",
              "      <td>5</td>\n",
              "      <td>novel numa file kurt austin adventur novel mai...</td>\n",
              "      <td>Thriller</td>\n",
              "      <td>Science Fiction</td>\n",
              "    </tr>\n",
              "    <tr>\n",
              "      <th>2996</th>\n",
              "      <td>14504372</td>\n",
              "      <td>Venus with Pistol</td>\n",
              "      <td>5</td>\n",
              "      <td>gilbert kemp dealer special antiqu gun london ...</td>\n",
              "      <td>Thriller</td>\n",
              "      <td>Thriller</td>\n",
              "    </tr>\n",
              "    <tr>\n",
              "      <th>2997</th>\n",
              "      <td>3617412</td>\n",
              "      <td>Blackwater</td>\n",
              "      <td>5</td>\n",
              "      <td>know deep davey alway live shadow older brothe...</td>\n",
              "      <td>Thriller</td>\n",
              "      <td>Thriller</td>\n",
              "    </tr>\n",
              "    <tr>\n",
              "      <th>2998</th>\n",
              "      <td>11320975</td>\n",
              "      <td>The Rainbow and the Rose</td>\n",
              "      <td>5</td>\n",
              "      <td>stori concern life johnni pasco retir commerci...</td>\n",
              "      <td>Thriller</td>\n",
              "      <td>Thriller</td>\n",
              "    </tr>\n",
              "    <tr>\n",
              "      <th>2999</th>\n",
              "      <td>17227674</td>\n",
              "      <td>Chiefs</td>\n",
              "      <td>5</td>\n",
              "      <td>first chief henri lee novel open grow town del...</td>\n",
              "      <td>Thriller</td>\n",
              "      <td>Thriller</td>\n",
              "    </tr>\n",
              "  </tbody>\n",
              "</table>\n",
              "<p>3000 rows × 6 columns</p>\n",
              "</div>\n",
              "      <button class=\"colab-df-convert\" onclick=\"convertToInteractive('df-abbb13f6-12b3-400a-af81-d09d9ac36f0b')\"\n",
              "              title=\"Convert this dataframe to an interactive table.\"\n",
              "              style=\"display:none;\">\n",
              "        \n",
              "  <svg xmlns=\"http://www.w3.org/2000/svg\" height=\"24px\"viewBox=\"0 0 24 24\"\n",
              "       width=\"24px\">\n",
              "    <path d=\"M0 0h24v24H0V0z\" fill=\"none\"/>\n",
              "    <path d=\"M18.56 5.44l.94 2.06.94-2.06 2.06-.94-2.06-.94-.94-2.06-.94 2.06-2.06.94zm-11 1L8.5 8.5l.94-2.06 2.06-.94-2.06-.94L8.5 2.5l-.94 2.06-2.06.94zm10 10l.94 2.06.94-2.06 2.06-.94-2.06-.94-.94-2.06-.94 2.06-2.06.94z\"/><path d=\"M17.41 7.96l-1.37-1.37c-.4-.4-.92-.59-1.43-.59-.52 0-1.04.2-1.43.59L10.3 9.45l-7.72 7.72c-.78.78-.78 2.05 0 2.83L4 21.41c.39.39.9.59 1.41.59.51 0 1.02-.2 1.41-.59l7.78-7.78 2.81-2.81c.8-.78.8-2.07 0-2.86zM5.41 20L4 18.59l7.72-7.72 1.47 1.35L5.41 20z\"/>\n",
              "  </svg>\n",
              "      </button>\n",
              "      \n",
              "  <style>\n",
              "    .colab-df-container {\n",
              "      display:flex;\n",
              "      flex-wrap:wrap;\n",
              "      gap: 12px;\n",
              "    }\n",
              "\n",
              "    .colab-df-convert {\n",
              "      background-color: #E8F0FE;\n",
              "      border: none;\n",
              "      border-radius: 50%;\n",
              "      cursor: pointer;\n",
              "      display: none;\n",
              "      fill: #1967D2;\n",
              "      height: 32px;\n",
              "      padding: 0 0 0 0;\n",
              "      width: 32px;\n",
              "    }\n",
              "\n",
              "    .colab-df-convert:hover {\n",
              "      background-color: #E2EBFA;\n",
              "      box-shadow: 0px 1px 2px rgba(60, 64, 67, 0.3), 0px 1px 3px 1px rgba(60, 64, 67, 0.15);\n",
              "      fill: #174EA6;\n",
              "    }\n",
              "\n",
              "    [theme=dark] .colab-df-convert {\n",
              "      background-color: #3B4455;\n",
              "      fill: #D2E3FC;\n",
              "    }\n",
              "\n",
              "    [theme=dark] .colab-df-convert:hover {\n",
              "      background-color: #434B5C;\n",
              "      box-shadow: 0px 1px 3px 1px rgba(0, 0, 0, 0.15);\n",
              "      filter: drop-shadow(0px 1px 2px rgba(0, 0, 0, 0.3));\n",
              "      fill: #FFFFFF;\n",
              "    }\n",
              "  </style>\n",
              "\n",
              "      <script>\n",
              "        const buttonEl =\n",
              "          document.querySelector('#df-abbb13f6-12b3-400a-af81-d09d9ac36f0b button.colab-df-convert');\n",
              "        buttonEl.style.display =\n",
              "          google.colab.kernel.accessAllowed ? 'block' : 'none';\n",
              "\n",
              "        async function convertToInteractive(key) {\n",
              "          const element = document.querySelector('#df-abbb13f6-12b3-400a-af81-d09d9ac36f0b');\n",
              "          const dataTable =\n",
              "            await google.colab.kernel.invokeFunction('convertToInteractive',\n",
              "                                                     [key], {});\n",
              "          if (!dataTable) return;\n",
              "\n",
              "          const docLinkHtml = 'Like what you see? Visit the ' +\n",
              "            '<a target=\"_blank\" href=https://colab.research.google.com/notebooks/data_table.ipynb>data table notebook</a>'\n",
              "            + ' to learn more about interactive tables.';\n",
              "          element.innerHTML = '';\n",
              "          dataTable['output_type'] = 'display_data';\n",
              "          await google.colab.output.renderOutput(dataTable, element);\n",
              "          const docLink = document.createElement('div');\n",
              "          docLink.innerHTML = docLinkHtml;\n",
              "          element.appendChild(docLink);\n",
              "        }\n",
              "      </script>\n",
              "    </div>\n",
              "  </div>\n",
              "  "
            ],
            "text/plain": [
              "       book_id                  book_name  genre  \\\n",
              "0      3248537          Drowned Wednesday      0   \n",
              "1     27796919              The Lost Hero      0   \n",
              "2      3910776  The Eyes of the Overworld      0   \n",
              "3      5969644            Magic's Promise      0   \n",
              "4      3173445             Taran Wanderer      0   \n",
              "...        ...                        ...    ...   \n",
              "2995  10372180                White Death      5   \n",
              "2996  14504372          Venus with Pistol      5   \n",
              "2997   3617412                 Blackwater      5   \n",
              "2998  11320975   The Rainbow and the Rose      5   \n",
              "2999  17227674                     Chiefs      5   \n",
              "\n",
              "                                                summary Actual Genre  \\\n",
              "0     drown wednesday first truste among morrow day ...      Fantasy   \n",
              "1     book open jason awaken school bu unabl rememb ...      Fantasy   \n",
              "2     cugel easili persuad merchant fianosth attempt...      Fantasy   \n",
              "3     book open herald mage vanyel return countri va...      Fantasy   \n",
              "4     taran gurgi return caer dallben follow event t...      Fantasy   \n",
              "...                                                 ...          ...   \n",
              "2995  novel numa file kurt austin adventur novel mai...     Thriller   \n",
              "2996  gilbert kemp dealer special antiqu gun london ...     Thriller   \n",
              "2997  know deep davey alway live shadow older brothe...     Thriller   \n",
              "2998  stori concern life johnni pasco retir commerci...     Thriller   \n",
              "2999  first chief henri lee novel open grow town del...     Thriller   \n",
              "\n",
              "      Predicted Genre  \n",
              "0             Fantasy  \n",
              "1             Fantasy  \n",
              "2             Fantasy  \n",
              "3             Fantasy  \n",
              "4             Fantasy  \n",
              "...               ...  \n",
              "2995  Science Fiction  \n",
              "2996         Thriller  \n",
              "2997         Thriller  \n",
              "2998         Thriller  \n",
              "2999         Thriller  \n",
              "\n",
              "[3000 rows x 6 columns]"
            ]
          },
          "execution_count": 29,
          "metadata": {},
          "output_type": "execute_result"
        }
      ],
      "source": [
        "amz_books['Actual Genre'] = amz_books['genre'].map(updated_mapper)\n",
        "amz_books['Predicted Genre'] = np.array(predicted_class)\n",
        "amz_books"
      ]
    },
    {
      "cell_type": "code",
      "execution_count": 30,
      "metadata": {
        "colab": {
          "base_uri": "https://localhost:8080/"
        },
        "id": "uEMJkEs1TXp0",
        "outputId": "51c12869-a1de-4740-fc95-41ba8efc1d92"
      },
      "outputs": [
        {
          "data": {
            "text/plain": [
              "{'Fantasy': 500,\n",
              " 'Science Fiction': 500,\n",
              " 'Crime Fiction': 500,\n",
              " 'Historical novel': 500,\n",
              " 'Horror': 500,\n",
              " 'Thriller': 500}"
            ]
          },
          "execution_count": 30,
          "metadata": {},
          "output_type": "execute_result"
        }
      ],
      "source": [
        "dict(Counter(amz_books['Actual Genre'].values))"
      ]
    },
    {
      "cell_type": "code",
      "execution_count": 32,
      "metadata": {
        "colab": {
          "base_uri": "https://localhost:8080/"
        },
        "id": "S6SdSP2StZ6I",
        "outputId": "309f2529-7e89-43ab-ac78-394ad8dfac35"
      },
      "outputs": [
        {
          "data": {
            "text/plain": [
              "{'Fantasy': 462,\n",
              " 'Science Fiction': 536,\n",
              " 'Thriller': 477,\n",
              " 'Horror': 504,\n",
              " 'Historical novel': 501,\n",
              " 'Crime Fiction': 520}"
            ]
          },
          "execution_count": 32,
          "metadata": {},
          "output_type": "execute_result"
        }
      ],
      "source": [
        "dict(Counter(amz_books['Predicted Genre'].values))"
      ]
    },
    {
      "cell_type": "code",
      "execution_count": 38,
      "metadata": {
        "id": "6xhNw8jEtmFc"
      },
      "outputs": [],
      "source": [
        "## saving the Multinomial Distribution Model\n",
        "import pickle\n",
        "\n",
        "amz_mb_file = open('amz_classification_model.pkl','wb')\n",
        "pickle.dump(multiDist, amz_mb_file)\n",
        "amz_mb_file.close()"
      ]
    },
    {
      "cell_type": "code",
      "execution_count": 39,
      "metadata": {
        "id": "747gzLSGyqF6"
      },
      "outputs": [],
      "source": [
        "## saving the TFID Vectorized Model\n",
        "\n",
        "amz_tfid_file = open('amz_tfid_model.pkl','wb')\n",
        "pickle.dump(tfid_vector, amz_tfid_file)\n",
        "amz_tfid_file.close()"
      ]
    },
    {
      "cell_type": "code",
      "execution_count": 40,
      "metadata": {
        "colab": {
          "base_uri": "https://localhost:8080/"
        },
        "id": "_WyDTPZEzOyD",
        "outputId": "602bc3d1-10db-47bf-b1ea-2397887173e5"
      },
      "outputs": [
        {
          "name": "stderr",
          "output_type": "stream",
          "text": [
            "[nltk_data] Downloading package wordnet to ./...\n"
          ]
        },
        {
          "data": {
            "text/plain": [
              "True"
            ]
          },
          "execution_count": 40,
          "metadata": {},
          "output_type": "execute_result"
        }
      ],
      "source": [
        "wordnet_download = nltk.download('wordnet', download_dir='./')\n",
        "wordnet_download"
      ]
    },
    {
      "cell_type": "code",
      "execution_count": 41,
      "metadata": {
        "colab": {
          "base_uri": "https://localhost:8080/"
        },
        "id": "vdM-ASV_zpjO",
        "outputId": "44f6032c-8e9a-4eeb-9b0f-d89d21527c03"
      },
      "outputs": [
        {
          "name": "stderr",
          "output_type": "stream",
          "text": [
            "[nltk_data] Downloading package stopwords to ./...\n",
            "[nltk_data]   Unzipping corpora/stopwords.zip.\n"
          ]
        },
        {
          "data": {
            "text/plain": [
              "True"
            ]
          },
          "execution_count": 41,
          "metadata": {},
          "output_type": "execute_result"
        }
      ],
      "source": [
        "nltk.download('stopwords', download_dir='./')\n"
      ]
    }
  ],
  "metadata": {
    "colab": {
      "provenance": []
    },
    "kernelspec": {
      "display_name": "Python 3",
      "name": "python3"
    },
    "language_info": {
      "name": "python"
    }
  },
  "nbformat": 4,
  "nbformat_minor": 0
}
